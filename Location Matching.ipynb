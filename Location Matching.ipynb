{
 "cells": [
  {
   "cell_type": "markdown",
   "id": "0de27c10-4041-4649-9c7d-72e44746ac6c",
   "metadata": {},
   "source": [
    "## Imports"
   ]
  },
  {
   "cell_type": "code",
   "execution_count": 20,
   "id": "4dcead76-030c-4d5e-83a8-9c1abf0035d4",
   "metadata": {},
   "outputs": [],
   "source": [
    "from math import radians, sin, cos, sqrt, atan2\n",
    "import pandas as pd"
   ]
  },
  {
   "cell_type": "markdown",
   "id": "8f477f67-97c0-4cd5-9960-f001005370f2",
   "metadata": {},
   "source": [
    "## Distance Formula (Haversine)"
   ]
  },
  {
   "cell_type": "code",
   "execution_count": 21,
   "id": "d5b15bce-f703-452e-9aa2-714f966aecd3",
   "metadata": {},
   "outputs": [
    {
     "name": "stdout",
     "output_type": "stream",
     "text": [
      "Distance: 2445.586606929677 miles\n"
     ]
    }
   ],
   "source": [
    "def haversine_distance(lat1, lon1, lat2, lon2):\n",
    "    # Radius of the Earth in miles\n",
    "    R = 3958.8  # miles\n",
    "\n",
    "    # Convert latitude and longitude from degrees to radians\n",
    "    lat1, lon1, lat2, lon2 = map(radians, [lat1, lon1, lat2, lon2])\n",
    "\n",
    "    # Haversine formula\n",
    "    dlat = lat2 - lat1\n",
    "    dlon = lon2 - lon1\n",
    "    a = sin(dlat / 2) ** 2 + cos(lat1) * cos(lat2) * sin(dlon / 2) ** 2\n",
    "    c = 2 * atan2(sqrt(a), sqrt(1 - a))\n",
    "    distance = R * c\n",
    "\n",
    "    return distance\n",
    "\n",
    "# Example usage\n",
    "lat1 = 40.7128  # Latitude of first location (e.g., New York City)\n",
    "lon1 = -74.0060  # Longitude of first location\n",
    "lat2 = 34.0522  # Latitude of second location (e.g., Los Angeles)\n",
    "lon2 = -118.2437  # Longitude of second location\n",
    "\n",
    "distance = haversine_distance(lat1, lon1, lat2, lon2)\n",
    "print(\"Distance:\", distance, \"miles\")\n"
   ]
  },
  {
   "cell_type": "markdown",
   "id": "c70f5221-d357-4b0a-9a8a-13eea2545ad8",
   "metadata": {},
   "source": [
    "## Load Datasets In"
   ]
  },
  {
   "cell_type": "code",
   "execution_count": 22,
   "id": "88e5bd9b-294c-4a64-b9c5-8d9953352f88",
   "metadata": {},
   "outputs": [],
   "source": [
    "dtype_specification = {'Building IRN': str, 'District IRN': str} \n",
    "\n",
    "ed_choice = pd.read_csv(\"output.csv\", dtype = dtype_specification)\n",
    "private_school = pd.read_csv(\"private_school_long_lat.csv\", dtype = dtype_specification)\n",
    "public_school = pd.read_csv(\"public_school_long_lat.csv\", dtype = dtype_specification)\n"
   ]
  },
  {
   "cell_type": "markdown",
   "id": "81b14bfa-5434-4496-8ad8-087d4dcd6f47",
   "metadata": {},
   "source": [
    "## O(n^3) time \n",
    "Go through all of public school\n",
    "\n",
    "Create a dictionary of \n",
    "`\n",
    "({\n",
    "    building_IRN : [private school in area]\n",
    "})\n",
    "`\n",
    "\n",
    "Go through every EdChoice entry\n",
    "\n",
    "look for corresponding entry in the dict\n",
    "\n",
    "find corresponding private schools \n",
    "\n",
    "see if they match specs . . . if so add it to competition\n",
    "\n"
   ]
  },
  {
   "cell_type": "code",
   "execution_count": 68,
   "id": "f3f2b0cd-78bc-4120-bede-3f58a765e37c",
   "metadata": {},
   "outputs": [
    {
     "data": {
      "text/plain": [
       "0       None\n",
       "1       None\n",
       "2       None\n",
       "3       None\n",
       "4       None\n",
       "        ... \n",
       "3885    None\n",
       "3886    None\n",
       "3887    None\n",
       "3888    None\n",
       "3889    None\n",
       "Length: 3890, dtype: object"
      ]
     },
     "execution_count": 68,
     "metadata": {},
     "output_type": "execute_result"
    }
   ],
   "source": [
    "class Private_school:\n",
    "    def __init__(self, school_name, add, phone_number):\n",
    "        self.school_name = school_name\n",
    "        self.phone_number = phone_number\n",
    "        self.address = add\n",
    "\n",
    "public_private_dict = {}\n",
    "\n",
    "def search_and_add_to_dict(row):\n",
    "    lat = row['lat']\n",
    "    long = row['long']\n",
    "    irn = row['Building IRN']\n",
    "    for index, row_priv in private_school.iterrows():\n",
    "        lat_priv = row_priv['lat']\n",
    "        long_priv = row_priv['long']\n",
    "        priv_name = row_priv['School Name']\n",
    "        priv_phone = row_priv['Telephone']\n",
    "        ad = row_priv['Address']\n",
    "        dist = haversine_distance(lat, long, lat_priv, long_priv)\n",
    "        if dist <= 5:\n",
    "            if irn in public_private_dict and isinstance(public_private_dict[irn], list):\n",
    "                public_private_dict[irn].append(Private_school(priv_name, ad, priv_phone))\n",
    "            else:\n",
    "                public_private_dict[irn] = [Private_school(priv_name, ad, priv_phone)]\n",
    "            \n",
    "\n",
    "public_school.apply(search_and_add_to_dict, axis=1)        \n",
    "    \n",
    "\n"
   ]
  },
  {
   "cell_type": "code",
   "execution_count": 69,
   "id": "2fcec4b6-e00c-4acc-8bf3-36f697cbb78f",
   "metadata": {},
   "outputs": [
    {
     "data": {
      "text/plain": [
       "[<__main__.Private_school at 0x1362e1c10>,\n",
       " <__main__.Private_school at 0x1362e2390>,\n",
       " <__main__.Private_school at 0x1362e23d0>,\n",
       " <__main__.Private_school at 0x1362e1910>,\n",
       " <__main__.Private_school at 0x1362e2290>,\n",
       " <__main__.Private_school at 0x1362e14d0>,\n",
       " <__main__.Private_school at 0x1362e1cd0>,\n",
       " <__main__.Private_school at 0x1362e0050>,\n",
       " <__main__.Private_school at 0x1362e2750>,\n",
       " <__main__.Private_school at 0x1362e0ed0>,\n",
       " <__main__.Private_school at 0x1362e1550>,\n",
       " <__main__.Private_school at 0x1362e0190>,\n",
       " <__main__.Private_school at 0x1362e0090>,\n",
       " <__main__.Private_school at 0x1362e3f90>]"
      ]
     },
     "execution_count": 69,
     "metadata": {},
     "output_type": "execute_result"
    }
   ],
   "source": [
    "public_private_dict['000091']"
   ]
  },
  {
   "cell_type": "code",
   "execution_count": 71,
   "id": "d6900e45-e3d7-4117-a2f3-75a33da4c7b7",
   "metadata": {},
   "outputs": [
    {
     "data": {
      "text/plain": [
       "'Shadeville Christian Academy'"
      ]
     },
     "execution_count": 71,
     "metadata": {},
     "output_type": "execute_result"
    }
   ],
   "source": [
    "public_private_dict['014944'][0].school_name"
   ]
  },
  {
   "cell_type": "code",
   "execution_count": null,
   "id": "4a6ce3c7-2225-4fa8-94c2-3fbf3d276490",
   "metadata": {},
   "outputs": [],
   "source": []
  }
 ],
 "metadata": {
  "kernelspec": {
   "display_name": "Python 3 (ipykernel)",
   "language": "python",
   "name": "python3"
  },
  "language_info": {
   "codemirror_mode": {
    "name": "ipython",
    "version": 3
   },
   "file_extension": ".py",
   "mimetype": "text/x-python",
   "name": "python",
   "nbconvert_exporter": "python",
   "pygments_lexer": "ipython3",
   "version": "3.11.4"
  }
 },
 "nbformat": 4,
 "nbformat_minor": 5
}
